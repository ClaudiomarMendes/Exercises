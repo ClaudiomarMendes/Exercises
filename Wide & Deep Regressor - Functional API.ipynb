{
 "cells": [
  {
   "cell_type": "markdown",
   "id": "5a043546",
   "metadata": {},
   "source": [
    "# Setup"
   ]
  },
  {
   "cell_type": "code",
   "execution_count": 4,
   "id": "2e726905",
   "metadata": {},
   "outputs": [],
   "source": [
    "# Python ≥3.5 is required\n",
    "import sys\n",
    "assert sys.version_info >= (3, 5)\n",
    "\n",
    "# Scikit-Learn ≥0.20 is required\n",
    "import sklearn\n",
    "assert sklearn.__version__ >= \"0.20\"\n",
    "\n",
    "import tensorflow as tf\n",
    "from tensorflow import keras\n",
    "import keras_tuner as kt\n",
    "\n",
    "try:\n",
    "    # %tensorflow_version only exists in Colab.\n",
    "    %tensorflow_version 2.x\n",
    "except Exception:\n",
    "    pass\n",
    "\n",
    "# TensorFlow ≥2.0 is required\n",
    "import tensorflow as tf\n",
    "assert tf.__version__ >= \"2.0\"\n",
    "\n",
    "# Common imports\n",
    "import numpy as np\n",
    "import os\n",
    "import pandas as pd\n",
    "\n",
    "# to make this notebook's output stable across runs\n",
    "np.random.seed(42)\n",
    "\n",
    "# To plot pretty figures\n",
    "%matplotlib inline\n",
    "import matplotlib as mpl\n",
    "import matplotlib.pyplot as plt\n",
    "mpl.rc('axes', labelsize=14)\n",
    "mpl.rc('xtick', labelsize=12)\n",
    "mpl.rc('ytick', labelsize=12)\n",
    "\n",
    "# Where to save the figures\n",
    "PROJECT_ROOT_DIR = \".\"\n",
    "CHAPTER_ID = \"ann\"\n",
    "IMAGES_PATH = os.path.join(PROJECT_ROOT_DIR, \"images\", CHAPTER_ID)\n",
    "os.makedirs(IMAGES_PATH, exist_ok=True)\n",
    "\n",
    "def save_fig(fig_id, tight_layout=True, fig_extension=\"png\", resolution=300):\n",
    "    path = os.path.join(IMAGES_PATH, fig_id + \".\" + fig_extension)\n",
    "    print(\"Saving figure\", fig_id)\n",
    "    if tight_layout:\n",
    "        plt.tight_layout()\n",
    "    plt.savefig(path, format=fig_extension, dpi=resolution)\n"
   ]
  },
  {
   "cell_type": "markdown",
   "id": "dc9464f9",
   "metadata": {},
   "source": [
    "What if you want to send different subsets of input features through the wide or deep paths? We will send 5 features (features 0 to 4), and 6 through the deep path (features 2 to 7). Note that 3 features will go through both (features 2, 3 and 4). Adding an auxiliary output for regularization:"
   ]
  },
  {
   "cell_type": "code",
   "execution_count": 5,
   "id": "f0ebacb5",
   "metadata": {},
   "outputs": [],
   "source": [
    "from sklearn.datasets import fetch_california_housing\n",
    "from sklearn.model_selection import train_test_split\n",
    "from sklearn.preprocessing import StandardScaler\n",
    "\n",
    "housing = fetch_california_housing()\n",
    "\n",
    "X_train_full, X_test, y_train_full, y_test = train_test_split(housing.data, housing.target, random_state=42)\n",
    "X_train, X_valid, y_train, y_valid = train_test_split(X_train_full, y_train_full, random_state=42)\n",
    "\n",
    "scaler = StandardScaler()\n",
    "X_train = scaler.fit_transform(X_train)\n",
    "X_valid = scaler.transform(X_valid)\n",
    "X_test = scaler.transform(X_test)"
   ]
  },
  {
   "cell_type": "code",
   "execution_count": 6,
   "id": "b69d51f8",
   "metadata": {},
   "outputs": [],
   "source": [
    "X_train_A, X_train_B = X_train[:, :5], X_train[:, 2:]\n",
    "X_valid_A, X_valid_B = X_valid[:, :5], X_valid[:, 2:]\n",
    "X_test_A, X_test_B = X_test[:, :5], X_test[:, 2:]\n",
    "X_new_A, X_new_B = X_test_A[:3], X_test_B[:3]"
   ]
  },
  {
   "cell_type": "code",
   "execution_count": 7,
   "id": "53052601",
   "metadata": {},
   "outputs": [],
   "source": [
    "np.random.seed(42)\n",
    "tf.random.set_seed(42)"
   ]
  },
  {
   "cell_type": "code",
   "execution_count": 8,
   "id": "3389aa17",
   "metadata": {},
   "outputs": [],
   "source": [
    "input_A = keras.layers.Input(shape=[5], name=\"wide_input\")\n",
    "input_B = keras.layers.Input(shape=[6], name=\"deep_input\")\n",
    "\n",
    "hidden1 = keras.layers.Dense(30, activation=\"relu\")(input_B)\n",
    "hidden2 = keras.layers.Dense(30, activation=\"relu\")(hidden1)\n",
    "\n",
    "concat = keras.layers.concatenate([input_A, hidden2])\n",
    "\n",
    "output = keras.layers.Dense(1, name=\"main_output\")(concat)\n",
    "\n",
    "aux_output = keras.layers.Dense(1, name=\"aux_output\")(hidden2)\n",
    "\n",
    "model = keras.models.Model(inputs=[input_A, input_B],\n",
    "                           outputs=[output, aux_output])"
   ]
  },
  {
   "cell_type": "code",
   "execution_count": 9,
   "id": "62a83ddc",
   "metadata": {},
   "outputs": [],
   "source": [
    "model.compile(loss = [\"mse\", \"mse\"], \n",
    "              loss_weights = [0.9, 0.1], \n",
    "              optimizer = keras.optimizers.SGD(learning_rate = 1e-3))"
   ]
  },
  {
   "cell_type": "code",
   "execution_count": 10,
   "id": "d851355e",
   "metadata": {},
   "outputs": [
    {
     "name": "stdout",
     "output_type": "stream",
     "text": [
      "Epoch 1/20\n",
      "363/363 [==============================] - 3s 3ms/step - loss: 2.2221 - main_output_loss: 2.0597 - aux_output_loss: 3.6842 - val_loss: 2.7773 - val_main_output_loss: 1.7661 - val_aux_output_loss: 11.8783\n",
      "Epoch 2/20\n",
      "363/363 [==============================] - 1s 3ms/step - loss: 0.8646 - main_output_loss: 0.7105 - aux_output_loss: 2.2512 - val_loss: 2.0032 - val_main_output_loss: 0.7552 - val_aux_output_loss: 13.2354\n",
      "Epoch 3/20\n",
      "363/363 [==============================] - 1s 3ms/step - loss: 0.7373 - main_output_loss: 0.6240 - aux_output_loss: 1.7578 - val_loss: 1.9543 - val_main_output_loss: 0.8547 - val_aux_output_loss: 11.8499\n",
      "Epoch 4/20\n",
      "363/363 [==============================] - 1s 3ms/step - loss: 0.6752 - main_output_loss: 0.5826 - aux_output_loss: 1.5082 - val_loss: 1.5990 - val_main_output_loss: 0.5950 - val_aux_output_loss: 10.6350\n",
      "Epoch 5/20\n",
      "363/363 [==============================] - 1s 3ms/step - loss: 0.6315 - main_output_loss: 0.5501 - aux_output_loss: 1.3635 - val_loss: 1.3779 - val_main_output_loss: 0.5441 - val_aux_output_loss: 8.8818\n",
      "Epoch 6/20\n",
      "363/363 [==============================] - 1s 3ms/step - loss: 0.5993 - main_output_loss: 0.5246 - aux_output_loss: 1.2712 - val_loss: 1.2191 - val_main_output_loss: 0.5766 - val_aux_output_loss: 7.0021\n",
      "Epoch 7/20\n",
      "363/363 [==============================] - 1s 3ms/step - loss: 0.5751 - main_output_loss: 0.5064 - aux_output_loss: 1.1938 - val_loss: 1.0688 - val_main_output_loss: 0.5540 - val_aux_output_loss: 5.7021\n",
      "Epoch 8/20\n",
      "363/363 [==============================] - 1s 3ms/step - loss: 0.5565 - main_output_loss: 0.4920 - aux_output_loss: 1.1368 - val_loss: 0.9110 - val_main_output_loss: 0.4935 - val_aux_output_loss: 4.6692\n",
      "Epoch 9/20\n",
      "363/363 [==============================] - 1s 3ms/step - loss: 0.5412 - main_output_loss: 0.4800 - aux_output_loss: 1.0916 - val_loss: 0.8062 - val_main_output_loss: 0.4747 - val_aux_output_loss: 3.7893\n",
      "Epoch 10/20\n",
      "363/363 [==============================] - 1s 3ms/step - loss: 0.5291 - main_output_loss: 0.4711 - aux_output_loss: 1.0509 - val_loss: 0.7302 - val_main_output_loss: 0.4703 - val_aux_output_loss: 3.0697\n",
      "Epoch 11/20\n",
      "363/363 [==============================] - 1s 3ms/step - loss: 0.5194 - main_output_loss: 0.4640 - aux_output_loss: 1.0174 - val_loss: 0.6576 - val_main_output_loss: 0.4505 - val_aux_output_loss: 2.5220\n",
      "Epoch 12/20\n",
      "363/363 [==============================] - 1s 3ms/step - loss: 0.5110 - main_output_loss: 0.4581 - aux_output_loss: 0.9865 - val_loss: 0.6058 - val_main_output_loss: 0.4343 - val_aux_output_loss: 2.1495\n",
      "Epoch 13/20\n",
      "363/363 [==============================] - 1s 3ms/step - loss: 0.5037 - main_output_loss: 0.4530 - aux_output_loss: 0.9595 - val_loss: 0.5647 - val_main_output_loss: 0.4248 - val_aux_output_loss: 1.8239\n",
      "Epoch 14/20\n",
      "363/363 [==============================] - 1s 3ms/step - loss: 0.4973 - main_output_loss: 0.4486 - aux_output_loss: 0.9348 - val_loss: 0.5326 - val_main_output_loss: 0.4228 - val_aux_output_loss: 1.5212\n",
      "Epoch 15/20\n",
      "363/363 [==============================] - 1s 3ms/step - loss: 0.4915 - main_output_loss: 0.4448 - aux_output_loss: 0.9121 - val_loss: 0.5085 - val_main_output_loss: 0.4154 - val_aux_output_loss: 1.3463\n",
      "Epoch 16/20\n",
      "363/363 [==============================] - 1s 3ms/step - loss: 0.4864 - main_output_loss: 0.4413 - aux_output_loss: 0.8922 - val_loss: 0.4912 - val_main_output_loss: 0.4186 - val_aux_output_loss: 1.1451\n",
      "Epoch 17/20\n",
      "363/363 [==============================] - 1s 3ms/step - loss: 0.4818 - main_output_loss: 0.4384 - aux_output_loss: 0.8728 - val_loss: 0.4734 - val_main_output_loss: 0.4076 - val_aux_output_loss: 1.0660\n",
      "Epoch 18/20\n",
      "363/363 [==============================] - 1s 3ms/step - loss: 0.4776 - main_output_loss: 0.4355 - aux_output_loss: 0.8561 - val_loss: 0.4613 - val_main_output_loss: 0.4055 - val_aux_output_loss: 0.9634\n",
      "Epoch 19/20\n",
      "363/363 [==============================] - 1s 3ms/step - loss: 0.4733 - main_output_loss: 0.4326 - aux_output_loss: 0.8400 - val_loss: 0.4524 - val_main_output_loss: 0.4033 - val_aux_output_loss: 0.8947\n",
      "Epoch 20/20\n",
      "363/363 [==============================] - 1s 3ms/step - loss: 0.4697 - main_output_loss: 0.4303 - aux_output_loss: 0.8247 - val_loss: 0.4654 - val_main_output_loss: 0.4187 - val_aux_output_loss: 0.8853\n"
     ]
    }
   ],
   "source": [
    "history = model.fit([X_train_A, X_train_B], \n",
    "                    [y_train, y_train], \n",
    "                    epochs = 20,\n",
    "                    validation_data = ([X_valid_A, X_valid_B], [y_valid, y_valid]))"
   ]
  },
  {
   "cell_type": "code",
   "execution_count": 11,
   "id": "002a337b",
   "metadata": {},
   "outputs": [
    {
     "name": "stdout",
     "output_type": "stream",
     "text": [
      "162/162 [==============================] - 0s 2ms/step - loss: 0.4612 - main_output_loss: 0.4238 - aux_output_loss: 0.7982\n",
      "1/1 [==============================] - 1s 566ms/step\n"
     ]
    }
   ],
   "source": [
    "total_loss, main_loss, aux_loss = model.evaluate(\n",
    "    [X_test_A, X_test_B], [y_test, y_test])\n",
    "\n",
    "y_pred_main, y_pred_aux = model.predict([X_new_A, X_new_B])"
   ]
  },
  {
   "cell_type": "code",
   "execution_count": null,
   "id": "282061e8",
   "metadata": {},
   "outputs": [],
   "source": []
  }
 ],
 "metadata": {
  "kernelspec": {
   "display_name": "Python 3 (ipykernel)",
   "language": "python",
   "name": "python3"
  },
  "language_info": {
   "codemirror_mode": {
    "name": "ipython",
    "version": 3
   },
   "file_extension": ".py",
   "mimetype": "text/x-python",
   "name": "python",
   "nbconvert_exporter": "python",
   "pygments_lexer": "ipython3",
   "version": "3.10.9"
  }
 },
 "nbformat": 4,
 "nbformat_minor": 5
}
